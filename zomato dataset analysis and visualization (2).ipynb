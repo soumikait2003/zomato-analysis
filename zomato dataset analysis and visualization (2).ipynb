{
 "cells": [
  {
   "cell_type": "code",
   "execution_count": null,
   "id": "dc3bd4e2",
   "metadata": {},
   "outputs": [],
   "source": [
    "import pandas as pd\n",
    "import numpy as np\n",
    "import matplotlib.pyplot as plt\n",
    "import seaborn as sns"
   ]
  },
  {
   "cell_type": "markdown",
   "id": "e9717c56",
   "metadata": {},
   "source": [
    "# Reading CSV"
   ]
  },
  {
   "cell_type": "code",
   "execution_count": null,
   "id": "b11040c6",
   "metadata": {},
   "outputs": [],
   "source": [
    "df=pd.read_csv('zomato.csv')"
   ]
  },
  {
   "cell_type": "code",
   "execution_count": null,
   "id": "8806353e",
   "metadata": {},
   "outputs": [],
   "source": [
    "df.head()"
   ]
  },
  {
   "cell_type": "code",
   "execution_count": null,
   "id": "5b2e82ad",
   "metadata": {},
   "outputs": [],
   "source": [
    "df.shape\n"
   ]
  },
  {
   "cell_type": "code",
   "execution_count": null,
   "id": "2bf366fa",
   "metadata": {},
   "outputs": [],
   "source": [
    "df.columns"
   ]
  },
  {
   "cell_type": "markdown",
   "id": "34bdbbcb",
   "metadata": {},
   "source": [
    "# Deleting unnecessary columns\n"
   ]
  },
  {
   "cell_type": "code",
   "execution_count": null,
   "id": "e6d522d1",
   "metadata": {},
   "outputs": [],
   "source": [
    "df=df.drop(['url', 'address','phone','dish_liked', 'reviews_list', 'menu_item'],axis=1)\n",
    "df.head()"
   ]
  },
  {
   "cell_type": "code",
   "execution_count": null,
   "id": "f94916b3",
   "metadata": {},
   "outputs": [],
   "source": [
    "df.info()"
   ]
  },
  {
   "cell_type": "markdown",
   "id": "e1c339c7",
   "metadata": {},
   "source": [
    "# Dropping Duplicates"
   ]
  },
  {
   "cell_type": "code",
   "execution_count": null,
   "id": "5f8a1017",
   "metadata": {},
   "outputs": [],
   "source": [
    "df.drop_duplicates(inplace=True)\n",
    "df.shape"
   ]
  },
  {
   "cell_type": "markdown",
   "id": "ba592c17",
   "metadata": {},
   "source": [
    "# Cleaning Rate Column"
   ]
  },
  {
   "cell_type": "code",
   "execution_count": null,
   "id": "6f85dba3",
   "metadata": {},
   "outputs": [],
   "source": [
    "df['rate'].unique()"
   ]
  },
  {
   "cell_type": "markdown",
   "id": "00eda2a1",
   "metadata": {},
   "source": [
    "# Removing \"NEW\",\"-\" and \"/5\" from Rate Column"
   ]
  },
  {
   "cell_type": "code",
   "execution_count": null,
   "id": "f1d0a46e",
   "metadata": {},
   "outputs": [],
   "source": [
    "def handlerate(value):\n",
    "    if(value==\"NEW\" or value=='-'):\n",
    "        return np.nan\n",
    "    else:\n",
    "        value=str(value).split('/')\n",
    "        value=value[0]\n",
    "        return float(value)\n",
    "df['rate']=df['rate'].apply(handlerate)\n",
    "        "
   ]
  },
  {
   "cell_type": "code",
   "execution_count": null,
   "id": "42a0983d",
   "metadata": {},
   "outputs": [],
   "source": [
    "df['rate'].head()"
   ]
  },
  {
   "cell_type": "markdown",
   "id": "f5fa236c",
   "metadata": {},
   "source": [
    "# Filling Null Values in Rate Column with Mean"
   ]
  },
  {
   "cell_type": "code",
   "execution_count": null,
   "id": "87770229",
   "metadata": {},
   "outputs": [],
   "source": [
    "df.rate.isnull().sum()"
   ]
  },
  {
   "cell_type": "code",
   "execution_count": null,
   "id": "66992f5f",
   "metadata": {},
   "outputs": [],
   "source": [
    "df['rate'].fillna(df['rate'].mean(),inplace=True)\n",
    "df['rate'].isnull().sum()"
   ]
  },
  {
   "cell_type": "code",
   "execution_count": null,
   "id": "af9e64e5",
   "metadata": {},
   "outputs": [],
   "source": [
    "df.info()"
   ]
  },
  {
   "cell_type": "markdown",
   "id": "a6ba1c15",
   "metadata": {},
   "source": [
    "# Dropping Null Values"
   ]
  },
  {
   "cell_type": "code",
   "execution_count": null,
   "id": "c6b3c330",
   "metadata": {},
   "outputs": [],
   "source": [
    "df.dropna(inplace=True)\n",
    "df.head()"
   ]
  },
  {
   "cell_type": "code",
   "execution_count": null,
   "id": "6e0a4e06",
   "metadata": {},
   "outputs": [],
   "source": [
    "df.rename(columns={'approx_cost(for two people)':'Cost2plates','listed_in(type)':'Type'},inplace=True)\n",
    "df.head()"
   ]
  },
  {
   "cell_type": "code",
   "execution_count": null,
   "id": "ecdec33e",
   "metadata": {},
   "outputs": [],
   "source": [
    "df['location'].unique()"
   ]
  },
  {
   "cell_type": "code",
   "execution_count": null,
   "id": "95bfd8a0",
   "metadata": {},
   "outputs": [],
   "source": [
    "df['listed_in(city)'].unique()"
   ]
  },
  {
   "cell_type": "markdown",
   "id": "1b4e4be7",
   "metadata": {},
   "source": [
    "# Listed in(city) and location both are there lets keep only one"
   ]
  },
  {
   "cell_type": "code",
   "execution_count": null,
   "id": "95990264",
   "metadata": {},
   "outputs": [],
   "source": [
    "df=df.drop(['listed_in(city)'],axis=1)"
   ]
  },
  {
   "cell_type": "code",
   "execution_count": null,
   "id": "0d7bdc27",
   "metadata": {},
   "outputs": [],
   "source": [
    "df['Cost2plates'].unique()"
   ]
  },
  {
   "cell_type": "code",
   "execution_count": null,
   "id": "2f62e526",
   "metadata": {},
   "outputs": [],
   "source": [
    "df.head()"
   ]
  },
  {
   "cell_type": "markdown",
   "id": "7654649b",
   "metadata": {},
   "source": [
    "# Removing , from Cost2Plates Column"
   ]
  },
  {
   "cell_type": "code",
   "execution_count": null,
   "id": "de5adb20",
   "metadata": {},
   "outputs": [],
   "source": [
    "def handlecomma(value):\n",
    "    value = str(value)\n",
    "    if ',' in value:\n",
    "        value = value.replace(',', '')\n",
    "    return float(value)\n",
    "\n",
    "df['Cost2plates'] = df['Cost2plates'].apply(handlecomma)\n",
    "unique_values = df['Cost2plates'].unique()\n",
    "print(unique_values)"
   ]
  },
  {
   "cell_type": "code",
   "execution_count": null,
   "id": "d1f94f58",
   "metadata": {},
   "outputs": [],
   "source": [
    "df.head()"
   ]
  },
  {
   "cell_type": "markdown",
   "id": "3e2dee02",
   "metadata": {},
   "source": [
    "# Clean Rest Type Column"
   ]
  },
  {
   "cell_type": "code",
   "execution_count": null,
   "id": "168342b4",
   "metadata": {},
   "outputs": [],
   "source": [
    "df['rest_type'].value_counts()"
   ]
  },
  {
   "cell_type": "code",
   "execution_count": null,
   "id": "a7d0c527",
   "metadata": {},
   "outputs": [],
   "source": [
    "rest_types=df['rest_type'].value_counts(ascending=False)\n",
    "rest_types"
   ]
  },
  {
   "cell_type": "code",
   "execution_count": null,
   "id": "d5f72366",
   "metadata": {},
   "outputs": [],
   "source": [
    "rest_types_lessthan1000=rest_types[rest_types<1000]\n",
    "rest_types_lessthan1000"
   ]
  },
  {
   "cell_type": "markdown",
   "id": "58c6b8b3",
   "metadata": {},
   "source": [
    "# Making Rest Types less than 1000 in frequency as others"
   ]
  },
  {
   "cell_type": "code",
   "execution_count": null,
   "id": "dc7306a0",
   "metadata": {},
   "outputs": [],
   "source": [
    "def handle_rest_type(value):\n",
    "    if(value in rest_types_lessthan1000):\n",
    "        return 'others'\n",
    "    else:\n",
    "        return value\n",
    "df['rest_type']=df['rest_type'].apply(handle_rest_type)\n",
    "df['rest_type'].value_counts()"
   ]
  },
  {
   "cell_type": "markdown",
   "id": "04022830",
   "metadata": {},
   "source": [
    "# Cleaning Location Column"
   ]
  },
  {
   "cell_type": "code",
   "execution_count": null,
   "id": "a0367527",
   "metadata": {},
   "outputs": [],
   "source": [
    "df['location'].value_counts()"
   ]
  },
  {
   "cell_type": "code",
   "execution_count": null,
   "id": "b69dffef",
   "metadata": {},
   "outputs": [],
   "source": [
    "location=df['location'].value_counts(ascending =False)\n",
    "location_lessthan300 =location[location<300]\n",
    "\n",
    "def handle_location(value):\n",
    "    if(value in location_lessthan300):\n",
    "        return 'others'\n",
    "    else:\n",
    "        return value\n",
    "df['location']=df['location'].apply(handle_location)"
   ]
  },
  {
   "cell_type": "code",
   "execution_count": null,
   "id": "f4d3b28c",
   "metadata": {},
   "outputs": [],
   "source": [
    "df['location'].value_counts()"
   ]
  },
  {
   "cell_type": "code",
   "execution_count": null,
   "id": "bf1e0e50",
   "metadata": {},
   "outputs": [],
   "source": [
    "cuisines=df['cuisines'].value_counts(ascending =False)\n",
    "cuisines_lessthan100 =cuisines[cuisines<100]\n",
    "\n",
    "def handle_cuisines(value):\n",
    "    if(value in cuisines_lessthan100):\n",
    "        return 'others'\n",
    "    else:\n",
    "        return value\n",
    "df['cuisines']=df['cuisines'].apply(handle_cuisines)\n",
    "df['cuisines'].value_counts()\n"
   ]
  },
  {
   "cell_type": "markdown",
   "id": "4cbaa08a",
   "metadata": {},
   "source": [
    "# Data is Clean Let's visualize"
   ]
  },
  {
   "cell_type": "markdown",
   "id": "e416586f",
   "metadata": {},
   "source": [
    "# visualizing online order vs rate"
   ]
  },
  {
   "cell_type": "code",
   "execution_count": null,
   "id": "4413e02c",
   "metadata": {},
   "outputs": [],
   "source": [
    "plt.figure(figsize=(6,6))\n",
    "sns.boxplot(x='online_order',y='rate',data=df)"
   ]
  },
  {
   "cell_type": "markdown",
   "id": "95fb3eae",
   "metadata": {},
   "source": [
    "# Visualizing Book Table vs Rate"
   ]
  },
  {
   "cell_type": "code",
   "execution_count": null,
   "id": "1488186f",
   "metadata": {},
   "outputs": [],
   "source": [
    "plt.figure(figsize=(6,6))\n",
    "sns.boxplot(x='book_table',y='rate',data=df)"
   ]
  },
  {
   "cell_type": "markdown",
   "id": "3704cd08",
   "metadata": {},
   "source": [
    "# Count Plot of Various Locations"
   ]
  },
  {
   "cell_type": "code",
   "execution_count": null,
   "id": "5c63e510",
   "metadata": {},
   "outputs": [],
   "source": [
    "location_counts = df['location'].value_counts()\n",
    "\n",
    "plt.figure(figsize=(16, 10))\n",
    "bars = plt.bar(location_counts.index, location_counts.values, color=plt.cm.plasma(range(len(location_counts))))\n",
    "\n",
    "# Adding grid lines\n",
    "plt.grid(axis='y', linestyle='--', alpha=0.7)\n",
    "\n",
    "# Changing background color to white\n",
    "plt.gca().set_facecolor('white')\n",
    "\n",
    "plt.xlabel('Location', fontsize=14)\n",
    "plt.ylabel('Count', fontsize=14)\n",
    "plt.title('Count of Various Locations', fontsize=16)\n",
    "plt.xticks(rotation=90, fontsize=12)\n",
    "plt.yticks(fontsize=12)\n",
    "\n",
    "# Adding data labels on top of each bar\n",
    "for bar in bars:\n",
    "    yval = bar.get_height()\n",
    "    plt.text(bar.get_x() + bar.get_width()/2, yval, round(yval, 1), va='bottom', ha='center', fontsize=10)\n",
    "\n",
    "plt.tight_layout()\n",
    "plt.show()"
   ]
  },
  {
   "cell_type": "markdown",
   "id": "2fa410ad",
   "metadata": {},
   "source": [
    "# Visualizing Online Order"
   ]
  },
  {
   "cell_type": "code",
   "execution_count": null,
   "id": "a1e85974",
   "metadata": {},
   "outputs": [],
   "source": [
    "online_order_counts = df['online_order'].value_counts()\n",
    "\n",
    "plt.figure(figsize=(8, 6))\n",
    "bars = plt.bar(online_order_counts.index, online_order_counts.values, color=['skyblue', 'orange'])\n",
    "\n",
    "plt.xlabel('Online Order', fontsize=14)\n",
    "plt.ylabel('Count', fontsize=14)\n",
    "plt.title('Count of Online vs. Offline Orders', fontsize=16)\n",
    "\n",
    "# Adding data labels on top of each bar\n",
    "for bar in bars:\n",
    "    yval = bar.get_height()\n",
    "    plt.text(bar.get_x() + bar.get_width()/2, yval, round(yval, 1), va='bottom', ha='center', fontsize=12)\n",
    "\n",
    "plt.xticks(fontsize=12)\n",
    "plt.yticks(fontsize=12)\n",
    "\n",
    "plt.tight_layout()\n",
    "plt.show()"
   ]
  },
  {
   "cell_type": "markdown",
   "id": "afff30c6",
   "metadata": {},
   "source": [
    "# Visualizing Online Order Facility,Location Wise"
   ]
  },
  {
   "cell_type": "code",
   "execution_count": null,
   "id": "71826c8e",
   "metadata": {},
   "outputs": [],
   "source": [
    "pivot_table = pd.pivot_table(df, index='location', columns='online_order', aggfunc='size', fill_value=0)\n",
    "\n",
    "# Plotting the pivot table\n",
    "pivot_table.plot(kind='bar', stacked=True, figsize=(12, 8))\n",
    "\n",
    "plt.xlabel('Location', fontsize=14)\n",
    "plt.ylabel('Number of Orders', fontsize=14)\n",
    "plt.title('Online Order Facility Availability Location-wise', fontsize=16)\n",
    "\n",
    "plt.xticks(rotation=45, fontsize=12)\n",
    "plt.yticks(fontsize=12)\n",
    "\n",
    "plt.legend(title='Online Order', fontsize=12)\n",
    "\n",
    "plt.tight_layout()\n",
    "plt.show()"
   ]
  },
  {
   "cell_type": "markdown",
   "id": "27295e79",
   "metadata": {},
   "source": [
    "# Visualizing Book Table Facility ,Location Wise"
   ]
  },
  {
   "cell_type": "code",
   "execution_count": null,
   "id": "c8689866",
   "metadata": {},
   "outputs": [],
   "source": [
    "pivot_table = pd.pivot_table(df, index='location', columns='book_table', aggfunc='size', fill_value=0)\n",
    "\n",
    "# Plotting the pivot table\n",
    "pivot_table.plot(kind='bar', stacked=True, figsize=(12, 8))\n",
    "\n",
    "plt.xlabel('Location', fontsize=14)\n",
    "plt.ylabel('Number of Book Table Facilities', fontsize=14)\n",
    "plt.title('Online Book Table Facility Availability Location-wise', fontsize=16)\n",
    "\n",
    "plt.xticks(rotation=45, fontsize=12)\n",
    "plt.yticks(fontsize=12)\n",
    "\n",
    "plt.legend(title='Online Book Table Facility', fontsize=12)\n",
    "\n",
    "plt.tight_layout()\n",
    "plt.show()"
   ]
  },
  {
   "cell_type": "markdown",
   "id": "5a455703",
   "metadata": {},
   "source": [
    "# Visualizing Types of Restaurents vs Rate"
   ]
  },
  {
   "cell_type": "code",
   "execution_count": null,
   "id": "2afd3f7e",
   "metadata": {},
   "outputs": [],
   "source": [
    "plt.figure(figsize=(14,8))\n",
    "sns.boxplot(x='Type',y='rate',data=df,palette='inferno')"
   ]
  },
  {
   "cell_type": "markdown",
   "id": "bcb9e4d6",
   "metadata": {},
   "source": [
    "# No. of Votes,Location Wise"
   ]
  },
  {
   "cell_type": "code",
   "execution_count": null,
   "id": "a8428260",
   "metadata": {},
   "outputs": [],
   "source": [
    "plt.figure(figsize=(12, 8))\n",
    "sns.barplot(data=df, x='location', y='votes', ci=None)\n",
    "\n",
    "plt.xlabel('Location', fontsize=14)\n",
    "plt.ylabel('Number of Votes', fontsize=14)\n",
    "plt.title('Number of Votes vs. Location', fontsize=16)\n",
    "\n",
    "plt.xticks(rotation=45, fontsize=12)\n",
    "plt.yticks(fontsize=12)\n",
    "\n",
    "plt.tight_layout()\n",
    "plt.show()"
   ]
  },
  {
   "cell_type": "markdown",
   "id": "ae583eb4",
   "metadata": {},
   "source": [
    "# Top Cuisines"
   ]
  },
  {
   "cell_type": "code",
   "execution_count": null,
   "id": "70a20418",
   "metadata": {},
   "outputs": [],
   "source": [
    "top_cuisines = df.groupby('cuisines')['votes'].sum().nlargest(10).index.tolist()\n",
    "\n",
    "# Filter the DataFrame to include only the top cuisines\n",
    "df_top_cuisines = df[df['cuisines'].isin(top_cuisines)]\n",
    "\n",
    "plt.figure(figsize=(12, 8))\n",
    "sns.barplot(data=df_top_cuisines, x='cuisines', y='votes', ci=None)\n",
    "\n",
    "plt.xlabel('Cuisine', fontsize=14)\n",
    "plt.ylabel('Number of Votes', fontsize=14)\n",
    "plt.title('Top Cuisine vs. Number of Votes', fontsize=16)\n",
    "\n",
    "plt.xticks(rotation=45, fontsize=12)\n",
    "plt.yticks(fontsize=12)\n",
    "\n",
    "plt.tight_layout()\n",
    "plt.show()"
   ]
  },
  {
   "cell_type": "code",
   "execution_count": null,
   "id": "01be688c",
   "metadata": {},
   "outputs": [],
   "source": []
  }
 ],
 "metadata": {
  "kernelspec": {
   "display_name": "Python 3 (ipykernel)",
   "language": "python",
   "name": "python3"
  },
  "language_info": {
   "codemirror_mode": {
    "name": "ipython",
    "version": 3
   },
   "file_extension": ".py",
   "mimetype": "text/x-python",
   "name": "python",
   "nbconvert_exporter": "python",
   "pygments_lexer": "ipython3",
   "version": "3.11.3"
  }
 },
 "nbformat": 4,
 "nbformat_minor": 5
}
